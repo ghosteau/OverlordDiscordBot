{
 "cells": [
  {
   "cell_type": "code",
   "execution_count": 1,
   "id": "c5ff7d32",
   "metadata": {},
   "outputs": [],
   "source": [
    "# Import libraries and tools for the machine learning model\n",
    "import pandas as pd # This will be used for data management\n",
    "import numpy as np\n",
    "from sklearn.model_selection import train_test_split # This will be used for splitting data\n",
    "from sklearn.feature_extraction.text import TfidfVectorizer # This is used to extract features from text\n",
    "from sklearn.linear_model import LogisticRegression # We will use logistic regression to classify something as \"spam\" or not\n",
    "from sklearn.metrics import accuracy_score "
   ]
  },
  {
   "cell_type": "code",
   "execution_count": 2,
   "id": "be6de548",
   "metadata": {},
   "outputs": [],
   "source": [
    "# Importing the data from CSV\n",
    "spamData = pd.read_csv(\"spam.csv\", encoding = 'latin1')"
   ]
  },
  {
   "cell_type": "code",
   "execution_count": 3,
   "id": "0258c543",
   "metadata": {},
   "outputs": [
    {
     "data": {
      "text/plain": [
       "(5572, 2)"
      ]
     },
     "execution_count": 3,
     "metadata": {},
     "output_type": "execute_result"
    }
   ],
   "source": [
    "spamData.shape # Check how many rows there are"
   ]
  },
  {
   "cell_type": "code",
   "execution_count": 4,
   "id": "aa7377d8",
   "metadata": {},
   "outputs": [
    {
     "data": {
      "text/html": [
       "<div>\n",
       "<style scoped>\n",
       "    .dataframe tbody tr th:only-of-type {\n",
       "        vertical-align: middle;\n",
       "    }\n",
       "\n",
       "    .dataframe tbody tr th {\n",
       "        vertical-align: top;\n",
       "    }\n",
       "\n",
       "    .dataframe thead th {\n",
       "        text-align: right;\n",
       "    }\n",
       "</style>\n",
       "<table border=\"1\" class=\"dataframe\">\n",
       "  <thead>\n",
       "    <tr style=\"text-align: right;\">\n",
       "      <th></th>\n",
       "      <th>v1</th>\n",
       "      <th>v2</th>\n",
       "    </tr>\n",
       "  </thead>\n",
       "  <tbody>\n",
       "    <tr>\n",
       "      <th>5567</th>\n",
       "      <td>spam</td>\n",
       "      <td>This is the 2nd time we have tried 2 contact u...</td>\n",
       "    </tr>\n",
       "    <tr>\n",
       "      <th>5568</th>\n",
       "      <td>ham</td>\n",
       "      <td>Will Ì_ b going to esplanade fr home?</td>\n",
       "    </tr>\n",
       "    <tr>\n",
       "      <th>5569</th>\n",
       "      <td>ham</td>\n",
       "      <td>Pity, * was in mood for that. So...any other s...</td>\n",
       "    </tr>\n",
       "    <tr>\n",
       "      <th>5570</th>\n",
       "      <td>ham</td>\n",
       "      <td>The guy did some bitching but I acted like i'd...</td>\n",
       "    </tr>\n",
       "    <tr>\n",
       "      <th>5571</th>\n",
       "      <td>ham</td>\n",
       "      <td>Rofl. Its true to its name</td>\n",
       "    </tr>\n",
       "  </tbody>\n",
       "</table>\n",
       "</div>"
      ],
      "text/plain": [
       "        v1                                                 v2\n",
       "5567  spam  This is the 2nd time we have tried 2 contact u...\n",
       "5568   ham              Will Ì_ b going to esplanade fr home?\n",
       "5569   ham  Pity, * was in mood for that. So...any other s...\n",
       "5570   ham  The guy did some bitching but I acted like i'd...\n",
       "5571   ham                         Rofl. Its true to its name"
      ]
     },
     "execution_count": 4,
     "metadata": {},
     "output_type": "execute_result"
    }
   ],
   "source": [
    "spamData.tail()"
   ]
  },
  {
   "cell_type": "code",
   "execution_count": 5,
   "id": "40de0e43",
   "metadata": {},
   "outputs": [],
   "source": [
    "spamData = spamData.dropna()"
   ]
  },
  {
   "cell_type": "code",
   "execution_count": 6,
   "id": "b15ea1e1",
   "metadata": {},
   "outputs": [
    {
     "name": "stdout",
     "output_type": "stream",
     "text": [
      "<class 'pandas.core.frame.DataFrame'>\n",
      "RangeIndex: 5572 entries, 0 to 5571\n",
      "Data columns (total 2 columns):\n",
      " #   Column  Non-Null Count  Dtype \n",
      "---  ------  --------------  ----- \n",
      " 0   v1      5572 non-null   object\n",
      " 1   v2      5572 non-null   object\n",
      "dtypes: object(2)\n",
      "memory usage: 87.2+ KB\n"
     ]
    }
   ],
   "source": [
    "spamData.info() # Checking to make sure there are no nulls"
   ]
  },
  {
   "cell_type": "code",
   "execution_count": 7,
   "id": "0c622471",
   "metadata": {},
   "outputs": [],
   "source": [
    "# Create our input and explanatory variable\n",
    "X = spamData[\"v2\"]\n",
    "Y = spamData[\"v1\"]"
   ]
  },
  {
   "cell_type": "code",
   "execution_count": 8,
   "id": "0dd8c0bf",
   "metadata": {},
   "outputs": [
    {
     "name": "stdout",
     "output_type": "stream",
     "text": [
      "(4179,)\n",
      "(4179,)\n",
      "(1393,)\n",
      "(1393,)\n"
     ]
    }
   ],
   "source": [
    "# Split the data into training and testing\n",
    "X_train, X_test, Y_train, Y_test = train_test_split(X, Y, test_size = 0.25, stratify = Y, random_state = 55)\n",
    "\n",
    "# Make sure all of the shapes align accordingly\n",
    "print(X_train.shape)\n",
    "print(Y_train.shape)\n",
    "print(X_test.shape)\n",
    "print(Y_test.shape)"
   ]
  },
  {
   "cell_type": "code",
   "execution_count": 9,
   "id": "319e356c",
   "metadata": {},
   "outputs": [],
   "source": [
    "# Creating model and standardizing data\n",
    "feature_extraction = TfidfVectorizer(min_df = 110, max_df = 3000, stop_words = \"english\", lowercase = True)\n",
    "\n",
    "X_train_features = feature_extraction.fit_transform(X_train)\n",
    "X_test_features = feature_extraction.transform(X_test)"
   ]
  },
  {
   "cell_type": "code",
   "execution_count": 10,
   "id": "5429fcf5",
   "metadata": {},
   "outputs": [
    {
     "name": "stdout",
     "output_type": "stream",
     "text": [
      "  (0, 11)\t0.5758891623774188\n",
      "  (0, 6)\t0.5788139320365375\n",
      "  (0, 13)\t0.577344009007314\n",
      "  (3, 19)\t0.4319747531259221\n",
      "  (3, 22)\t0.8022431912913773\n",
      "  (3, 15)\t0.4120724143744945\n",
      "  (5, 8)\t1.0\n",
      "  (8, 12)\t0.5788662144695679\n",
      "  (8, 23)\t0.5701985650076984\n",
      "  (8, 14)\t0.5829129456521219\n",
      "  (10, 0)\t0.9040180145733753\n",
      "  (10, 15)\t0.4274943617485647\n",
      "  (11, 22)\t1.0\n",
      "  (13, 2)\t0.39366233990697785\n",
      "  (13, 21)\t0.42440072091485836\n",
      "  (13, 8)\t0.35270432764004284\n",
      "  (13, 22)\t0.7351963326145586\n",
      "  (14, 11)\t1.0\n",
      "  (18, 3)\t0.729448870961509\n",
      "  (18, 19)\t0.6840353387457258\n",
      "  (19, 4)\t1.0\n",
      "  (21, 23)\t1.0\n",
      "  (26, 10)\t0.5071610088316674\n",
      "  (26, 0)\t0.5115378010204416\n",
      "  (26, 6)\t0.4910907032201974\n",
      "  :\t:\n",
      "  (4153, 15)\t1.0\n",
      "  (4155, 1)\t0.6987337424981027\n",
      "  (4155, 23)\t0.7153818260863182\n",
      "  (4156, 16)\t0.4862019196315351\n",
      "  (4156, 22)\t0.8738464930104201\n",
      "  (4157, 21)\t1.0\n",
      "  (4158, 9)\t0.6818884267770944\n",
      "  (4158, 12)\t0.7314562006213764\n",
      "  (4160, 20)\t0.4692345006004463\n",
      "  (4160, 8)\t0.7785328094668276\n",
      "  (4160, 15)\t0.4167800955299307\n",
      "  (4161, 1)\t0.9059580717611517\n",
      "  (4161, 15)\t0.42336741987405674\n",
      "  (4163, 2)\t0.5807477839085534\n",
      "  (4163, 21)\t0.6260943787986859\n",
      "  (4163, 8)\t0.5203247450602284\n",
      "  (4165, 7)\t1.0\n",
      "  (4166, 0)\t1.0\n",
      "  (4167, 23)\t1.0\n",
      "  (4169, 10)\t0.5837092193400876\n",
      "  (4169, 14)\t0.6235570104394653\n",
      "  (4169, 8)\t0.5200578833064469\n",
      "  (4170, 1)\t1.0\n",
      "  (4172, 3)\t1.0\n",
      "  (4175, 15)\t1.0\n"
     ]
    }
   ],
   "source": [
    "print(X_train_features)"
   ]
  },
  {
   "cell_type": "code",
   "execution_count": 11,
   "id": "66e59fee",
   "metadata": {},
   "outputs": [
    {
     "data": {
      "text/html": [
       "<style>#sk-container-id-1 {color: black;}#sk-container-id-1 pre{padding: 0;}#sk-container-id-1 div.sk-toggleable {background-color: white;}#sk-container-id-1 label.sk-toggleable__label {cursor: pointer;display: block;width: 100%;margin-bottom: 0;padding: 0.3em;box-sizing: border-box;text-align: center;}#sk-container-id-1 label.sk-toggleable__label-arrow:before {content: \"▸\";float: left;margin-right: 0.25em;color: #696969;}#sk-container-id-1 label.sk-toggleable__label-arrow:hover:before {color: black;}#sk-container-id-1 div.sk-estimator:hover label.sk-toggleable__label-arrow:before {color: black;}#sk-container-id-1 div.sk-toggleable__content {max-height: 0;max-width: 0;overflow: hidden;text-align: left;background-color: #f0f8ff;}#sk-container-id-1 div.sk-toggleable__content pre {margin: 0.2em;color: black;border-radius: 0.25em;background-color: #f0f8ff;}#sk-container-id-1 input.sk-toggleable__control:checked~div.sk-toggleable__content {max-height: 200px;max-width: 100%;overflow: auto;}#sk-container-id-1 input.sk-toggleable__control:checked~label.sk-toggleable__label-arrow:before {content: \"▾\";}#sk-container-id-1 div.sk-estimator input.sk-toggleable__control:checked~label.sk-toggleable__label {background-color: #d4ebff;}#sk-container-id-1 div.sk-label input.sk-toggleable__control:checked~label.sk-toggleable__label {background-color: #d4ebff;}#sk-container-id-1 input.sk-hidden--visually {border: 0;clip: rect(1px 1px 1px 1px);clip: rect(1px, 1px, 1px, 1px);height: 1px;margin: -1px;overflow: hidden;padding: 0;position: absolute;width: 1px;}#sk-container-id-1 div.sk-estimator {font-family: monospace;background-color: #f0f8ff;border: 1px dotted black;border-radius: 0.25em;box-sizing: border-box;margin-bottom: 0.5em;}#sk-container-id-1 div.sk-estimator:hover {background-color: #d4ebff;}#sk-container-id-1 div.sk-parallel-item::after {content: \"\";width: 100%;border-bottom: 1px solid gray;flex-grow: 1;}#sk-container-id-1 div.sk-label:hover label.sk-toggleable__label {background-color: #d4ebff;}#sk-container-id-1 div.sk-serial::before {content: \"\";position: absolute;border-left: 1px solid gray;box-sizing: border-box;top: 0;bottom: 0;left: 50%;z-index: 0;}#sk-container-id-1 div.sk-serial {display: flex;flex-direction: column;align-items: center;background-color: white;padding-right: 0.2em;padding-left: 0.2em;position: relative;}#sk-container-id-1 div.sk-item {position: relative;z-index: 1;}#sk-container-id-1 div.sk-parallel {display: flex;align-items: stretch;justify-content: center;background-color: white;position: relative;}#sk-container-id-1 div.sk-item::before, #sk-container-id-1 div.sk-parallel-item::before {content: \"\";position: absolute;border-left: 1px solid gray;box-sizing: border-box;top: 0;bottom: 0;left: 50%;z-index: -1;}#sk-container-id-1 div.sk-parallel-item {display: flex;flex-direction: column;z-index: 1;position: relative;background-color: white;}#sk-container-id-1 div.sk-parallel-item:first-child::after {align-self: flex-end;width: 50%;}#sk-container-id-1 div.sk-parallel-item:last-child::after {align-self: flex-start;width: 50%;}#sk-container-id-1 div.sk-parallel-item:only-child::after {width: 0;}#sk-container-id-1 div.sk-dashed-wrapped {border: 1px dashed gray;margin: 0 0.4em 0.5em 0.4em;box-sizing: border-box;padding-bottom: 0.4em;background-color: white;}#sk-container-id-1 div.sk-label label {font-family: monospace;font-weight: bold;display: inline-block;line-height: 1.2em;}#sk-container-id-1 div.sk-label-container {text-align: center;}#sk-container-id-1 div.sk-container {/* jupyter's `normalize.less` sets `[hidden] { display: none; }` but bootstrap.min.css set `[hidden] { display: none !important; }` so we also need the `!important` here to be able to override the default hidden behavior on the sphinx rendered scikit-learn.org. See: https://github.com/scikit-learn/scikit-learn/issues/21755 */display: inline-block !important;position: relative;}#sk-container-id-1 div.sk-text-repr-fallback {display: none;}</style><div id=\"sk-container-id-1\" class=\"sk-top-container\"><div class=\"sk-text-repr-fallback\"><pre>LogisticRegression()</pre><b>In a Jupyter environment, please rerun this cell to show the HTML representation or trust the notebook. <br />On GitHub, the HTML representation is unable to render, please try loading this page with nbviewer.org.</b></div><div class=\"sk-container\" hidden><div class=\"sk-item\"><div class=\"sk-estimator sk-toggleable\"><input class=\"sk-toggleable__control sk-hidden--visually\" id=\"sk-estimator-id-1\" type=\"checkbox\" checked><label for=\"sk-estimator-id-1\" class=\"sk-toggleable__label sk-toggleable__label-arrow\">LogisticRegression</label><div class=\"sk-toggleable__content\"><pre>LogisticRegression()</pre></div></div></div></div></div>"
      ],
      "text/plain": [
       "LogisticRegression()"
      ]
     },
     "execution_count": 11,
     "metadata": {},
     "output_type": "execute_result"
    }
   ],
   "source": [
    "# Create the actual model\n",
    "model = LogisticRegression()\n",
    "\n",
    "model.fit(X_train_features, Y_train)"
   ]
  },
  {
   "cell_type": "code",
   "execution_count": 12,
   "id": "a16e1cc4",
   "metadata": {},
   "outputs": [
    {
     "name": "stdout",
     "output_type": "stream",
     "text": [
      "Accuracy on training data: 0.9097870303900455\n"
     ]
    }
   ],
   "source": [
    "trainingDataPreds = model.predict(X_train_features)\n",
    "trainingDataAccuracy = accuracy_score(Y_train, trainingDataPreds)\n",
    "print(\"Accuracy on training data:\", trainingDataAccuracy)"
   ]
  },
  {
   "cell_type": "code",
   "execution_count": 13,
   "id": "fa9e1df8",
   "metadata": {},
   "outputs": [
    {
     "name": "stdout",
     "output_type": "stream",
     "text": [
      "Accuracy on testing data: 0.908829863603733\n"
     ]
    }
   ],
   "source": [
    "testDataPreds = model.predict(X_test_features)\n",
    "testDataAccuracy = accuracy_score(Y_test, testDataPreds)\n",
    "print(\"Accuracy on testing data:\", testDataAccuracy)"
   ]
  },
  {
   "cell_type": "code",
   "execution_count": 14,
   "id": "5c7fe69a",
   "metadata": {},
   "outputs": [
    {
     "name": "stdout",
     "output_type": "stream",
     "text": [
      "['ham']\n",
      "No spam detected\n"
     ]
    }
   ],
   "source": [
    "# Put input here; potentially create function call when implimented\n",
    "new_input = [\"test\"]\n",
    "\n",
    "input_data_features = feature_extraction.transform(new_input)\n",
    "\n",
    "new_prediction = model.predict(input_data_features)\n",
    "print(new_prediction)\n",
    "\n",
    "if (new_prediction) == \"spam\":\n",
    "    print(\"This was flagged as spam!\")\n",
    "          \n",
    "else:\n",
    "    print(\"No spam detected\")"
   ]
  },
  {
   "cell_type": "code",
   "execution_count": 15,
   "id": "f2b9a458",
   "metadata": {},
   "outputs": [
    {
     "name": "stdout",
     "output_type": "stream",
     "text": [
      "['spam']\n",
      "This was flagged as spam!\n"
     ]
    }
   ],
   "source": [
    "# Put input here; potentially create function call when implimented\n",
    "new_input = [\"CONGRATS! YOU WON A FREE CRUISE SHIP WINNER --> SIGN UP HERE AT THIS LINK\"]\n",
    "\n",
    "input_data_features = feature_extraction.transform(new_input)\n",
    "\n",
    "new_prediction = model.predict(input_data_features)\n",
    "print(new_prediction)\n",
    "\n",
    "if (new_prediction) == \"spam\":\n",
    "    print(\"This was flagged as spam!\")\n",
    "          \n",
    "else:\n",
    "    print(\"No spam detected\")"
   ]
  },
  {
   "cell_type": "code",
   "execution_count": 16,
   "id": "18fd84fb",
   "metadata": {},
   "outputs": [
    {
     "name": "stdout",
     "output_type": "stream",
     "text": [
      "['ham']\n",
      "No spam detected\n"
     ]
    }
   ],
   "source": [
    "# Put input here; potentially create function call when implimented\n",
    "new_input = [\"Luke is my buddy stop bugging him lol\"]\n",
    "\n",
    "input_data_features = feature_extraction.transform(new_input)\n",
    "\n",
    "new_prediction = model.predict(input_data_features)\n",
    "print(new_prediction)\n",
    "\n",
    "if (new_prediction) == \"spam\":\n",
    "    print(\"This was flagged as spam!\")\n",
    "          \n",
    "else:\n",
    "    print(\"No spam detected\")"
   ]
  },
  {
   "cell_type": "code",
   "execution_count": 17,
   "id": "30755973",
   "metadata": {},
   "outputs": [
    {
     "name": "stdout",
     "output_type": "stream",
     "text": [
      "['spam']\n",
      "This was flagged as spam!\n"
     ]
    }
   ],
   "source": [
    "# Put input here; potentially create function call when implimented\n",
    "new_input = [\"Free Minecoins at this server link -- check it out here with one click!\"]\n",
    "\n",
    "input_data_features = feature_extraction.transform(new_input)\n",
    "\n",
    "new_prediction = model.predict(input_data_features)\n",
    "print(new_prediction)\n",
    "\n",
    "if (new_prediction) == \"spam\":\n",
    "    print(\"This was flagged as spam!\")\n",
    "          \n",
    "else:\n",
    "    print(\"No spam detected\")"
   ]
  },
  {
   "cell_type": "code",
   "execution_count": 18,
   "id": "31d36fcf",
   "metadata": {},
   "outputs": [
    {
     "name": "stdout",
     "output_type": "stream",
     "text": [
      "['ham']\n",
      "No spam detected\n"
     ]
    }
   ],
   "source": [
    "# Put input here; potentially create function call when implimented\n",
    "new_input = [\"I was merely stating how I felt about the state of the server haha\"]\n",
    "\n",
    "input_data_features = feature_extraction.transform(new_input)\n",
    "\n",
    "new_prediction = model.predict(input_data_features)\n",
    "print(new_prediction)\n",
    "\n",
    "if (new_prediction) == \"spam\":\n",
    "    print(\"This was flagged as spam!\")\n",
    "          \n",
    "else:\n",
    "    print(\"No spam detected\")"
   ]
  }
 ],
 "metadata": {
  "kernelspec": {
   "display_name": "Python 3 (ipykernel)",
   "language": "python",
   "name": "python3"
  },
  "language_info": {
   "codemirror_mode": {
    "name": "ipython",
    "version": 3
   },
   "file_extension": ".py",
   "mimetype": "text/x-python",
   "name": "python",
   "nbconvert_exporter": "python",
   "pygments_lexer": "ipython3",
   "version": "3.11.5"
  }
 },
 "nbformat": 4,
 "nbformat_minor": 5
}
